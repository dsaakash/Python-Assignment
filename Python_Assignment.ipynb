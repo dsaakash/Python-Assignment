{
 "cells": [
  {
   "cell_type": "markdown",
   "id": "2cdf925f",
   "metadata": {},
   "source": [
    "# Question 1\n",
    "Write a python code for converting integer values to Indian currency notations, without\n",
    "using the currency libraries\n",
    "Example:\n",
    "input: 504678\n",
    "output: 5,04,67\n"
   ]
  },
  {
   "cell_type": "code",
   "execution_count": 1,
   "id": "a8643b35",
   "metadata": {},
   "outputs": [
    {
     "name": "stdout",
     "output_type": "stream",
     "text": [
      "enter number504678\n",
      "5,04,678\n"
     ]
    }
   ],
   "source": [
    "# Approach\n",
    "\n",
    "# To convert an integer to the Indian currency format without using currency libraries in Python, \n",
    "# you can follow these steps:\n",
    "# Convert the integer to a string.\n",
    "# Reverse the string for easier processing.\n",
    "# Insert a comma after the first three digits and then after every two digits.\n",
    "# Reverse the string back to its original order.\n",
    "\n",
    "\n",
    "\n",
    "def indian_currency_format(num):\n",
    "    s = str(num)[::-1]\n",
    "    parts = [s[i:i+2] for i in range(3, len(s), 2)]\n",
    "    formatted = s[:3] + (',' if parts else '') + ','.join(parts)\n",
    "    return formatted[::-1]\n",
    "\n",
    "# Example usage\n",
    "number = int(input('enter number'))\n",
    "formatted_number = indian_currency_format(number)\n",
    "print(formatted_number)  # Output: 5,04,678"
   ]
  },
  {
   "cell_type": "markdown",
   "id": "62dd6679",
   "metadata": {},
   "source": [
    "# 2  To solve this problem in Python, we can iterate through the list of players' heights and count the number of players taller than Gi-Hun and Ali. This count will be the minimum number of players that need to be \"shot\" to make Ali visible to Gi-Hun.\n",
    "\n",
    "The algorithm steps are:\n",
    "\n",
    " - Read the number of test cases T.\n",
    " - For each test case, read N and K.\n",
    "- Read the array of heights H.\n",
    " - Initialize a variable max_height to K (height of Gi-Hun and Ali).\n",
    " - Iterate through each height in H. If a height is greater than max_height, update max_height and increment a counter.\n",
    " - The counter will give the minimum number of players who need to get shot."
   ]
  },
  {
   "cell_type": "code",
   "execution_count": 5,
   "id": "e3fc54bb",
   "metadata": {},
   "outputs": [
    {
     "name": "stdout",
     "output_type": "stream",
     "text": [
      "2\n",
      "1\n",
      "0\n"
     ]
    }
   ],
   "source": [
    "def min_players_to_shoot(T, test_cases):\n",
    "    results = []\n",
    "    for N, K, heights in test_cases:\n",
    "        max_height = K\n",
    "        count = 0\n",
    "        for height in heights:\n",
    "            if height > max_height:\n",
    "                max_height = height\n",
    "                count += 1\n",
    "        results.append(count)\n",
    "    return results\n",
    "\n",
    "# Sample Input\n",
    "T = 3\n",
    "test_cases = [\n",
    "    (4, 10, [2, 13, 4, 16]),\n",
    "    (5, 8, [9, 3, 8, 8, 4]),\n",
    "    (4, 6, [1, 2, 3, 4])\n",
    "]\n",
    "\n",
    "# Function Call\n",
    "results = min_players_to_shoot(T, test_cases)\n",
    "\n",
    "# Output\n",
    "for result in results:\n",
    "    print(result)\n"
   ]
  },
  {
   "cell_type": "code",
   "execution_count": null,
   "id": "11b68d52",
   "metadata": {},
   "outputs": [],
   "source": []
  }
 ],
 "metadata": {
  "kernelspec": {
   "display_name": "Python 3 (ipykernel)",
   "language": "python",
   "name": "python3"
  },
  "language_info": {
   "codemirror_mode": {
    "name": "ipython",
    "version": 3
   },
   "file_extension": ".py",
   "mimetype": "text/x-python",
   "name": "python",
   "nbconvert_exporter": "python",
   "pygments_lexer": "ipython3",
   "version": "3.11.5"
  }
 },
 "nbformat": 4,
 "nbformat_minor": 5
}
